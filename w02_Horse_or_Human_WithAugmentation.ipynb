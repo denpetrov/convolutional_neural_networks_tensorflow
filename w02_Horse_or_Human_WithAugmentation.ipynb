{
  "nbformat": 4,
  "nbformat_minor": 0,
  "metadata": {
    "colab": {
      "name": "w02: Horse-or-Human-WithAugmentation.ipynb",
      "version": "0.3.2",
      "provenance": [],
      "collapsed_sections": [],
      "toc_visible": true,
      "include_colab_link": true
    },
    "kernelspec": {
      "name": "python3",
      "display_name": "Python 3"
    },
    "accelerator": "GPU"
  },
  "cells": [
    {
      "cell_type": "markdown",
      "metadata": {
        "id": "view-in-github",
        "colab_type": "text"
      },
      "source": [
        "<a href=\"https://colab.research.google.com/github/denpetrov/convolutional_neural_networks_tensorflow/blob/master/w02_Horse_or_Human_WithAugmentation.ipynb\" target=\"_parent\"><img src=\"https://colab.research.google.com/assets/colab-badge.svg\" alt=\"Open In Colab\"/></a>"
      ]
    },
    {
      "cell_type": "code",
      "metadata": {
        "colab_type": "code",
        "id": "RXZT2UsyIVe_",
        "colab": {
          "base_uri": "https://localhost:8080/",
          "height": 411
        },
        "outputId": "53979881-4ede-4d9a-d734-12a20a92dc75"
      },
      "source": [
        "!wget --no-check-certificate \\\n",
        "    https://storage.googleapis.com/laurencemoroney-blog.appspot.com/horse-or-human.zip \\\n",
        "    -O /tmp/horse-or-human.zip\n",
        "\n",
        "!wget --no-check-certificate \\\n",
        "    https://storage.googleapis.com/laurencemoroney-blog.appspot.com/validation-horse-or-human.zip \\\n",
        "    -O /tmp/validation-horse-or-human.zip\n",
        "  \n",
        "import os\n",
        "import zipfile\n",
        "\n",
        "local_zip = '/tmp/horse-or-human.zip'\n",
        "zip_ref = zipfile.ZipFile(local_zip, 'r')\n",
        "zip_ref.extractall('/tmp/horse-or-human')\n",
        "local_zip = '/tmp/validation-horse-or-human.zip'\n",
        "zip_ref = zipfile.ZipFile(local_zip, 'r')\n",
        "zip_ref.extractall('/tmp/validation-horse-or-human')\n",
        "zip_ref.close()\n",
        "# Directory with our training horse pictures\n",
        "train_horse_dir = os.path.join('/tmp/horse-or-human/horses')\n",
        "\n",
        "# Directory with our training human pictures\n",
        "train_human_dir = os.path.join('/tmp/horse-or-human/humans')\n",
        "\n",
        "# Directory with our training horse pictures\n",
        "validation_horse_dir = os.path.join('/tmp/validation-horse-or-human/horses')\n",
        "\n",
        "# Directory with our training human pictures\n",
        "validation_human_dir = os.path.join('/tmp/validation-horse-or-human/humans')"
      ],
      "execution_count": 1,
      "outputs": [
        {
          "output_type": "stream",
          "text": [
            "--2019-06-30 11:15:46--  https://storage.googleapis.com/laurencemoroney-blog.appspot.com/horse-or-human.zip\n",
            "Resolving storage.googleapis.com (storage.googleapis.com)... 74.125.140.128, 2a00:1450:400c:c08::80\n",
            "Connecting to storage.googleapis.com (storage.googleapis.com)|74.125.140.128|:443... connected.\n",
            "HTTP request sent, awaiting response... 200 OK\n",
            "Length: 149574867 (143M) [application/zip]\n",
            "Saving to: ‘/tmp/horse-or-human.zip’\n",
            "\n",
            "/tmp/horse-or-human 100%[===================>] 142.65M   113MB/s    in 1.3s    \n",
            "\n",
            "2019-06-30 11:15:48 (113 MB/s) - ‘/tmp/horse-or-human.zip’ saved [149574867/149574867]\n",
            "\n",
            "--2019-06-30 11:15:49--  https://storage.googleapis.com/laurencemoroney-blog.appspot.com/validation-horse-or-human.zip\n",
            "Resolving storage.googleapis.com (storage.googleapis.com)... 173.194.76.128, 2a00:1450:400c:c08::80\n",
            "Connecting to storage.googleapis.com (storage.googleapis.com)|173.194.76.128|:443... connected.\n",
            "HTTP request sent, awaiting response... 200 OK\n",
            "Length: 11480187 (11M) [application/zip]\n",
            "Saving to: ‘/tmp/validation-horse-or-human.zip’\n",
            "\n",
            "/tmp/validation-hor 100%[===================>]  10.95M  --.-KB/s    in 0.1s    \n",
            "\n",
            "2019-06-30 11:15:50 (115 MB/s) - ‘/tmp/validation-horse-or-human.zip’ saved [11480187/11480187]\n",
            "\n"
          ],
          "name": "stdout"
        }
      ]
    },
    {
      "cell_type": "markdown",
      "metadata": {
        "colab_type": "text",
        "id": "5oqBkNBJmtUv"
      },
      "source": [
        "## Building a Small Model from Scratch\n",
        "\n",
        "But before we continue, let's start defining the model:\n",
        "\n",
        "Step 1 will be to import tensorflow."
      ]
    },
    {
      "cell_type": "code",
      "metadata": {
        "id": "qvfZg3LQbD-5",
        "colab_type": "code",
        "colab": {}
      },
      "source": [
        "import tensorflow as tf"
      ],
      "execution_count": 0,
      "outputs": []
    },
    {
      "cell_type": "markdown",
      "metadata": {
        "colab_type": "text",
        "id": "BnhYCP4tdqjC"
      },
      "source": [
        "We then add convolutional layers as in the previous example, and flatten the final result to feed into the densely connected layers."
      ]
    },
    {
      "cell_type": "markdown",
      "metadata": {
        "id": "gokG5HKpdtzm",
        "colab_type": "text"
      },
      "source": [
        "Finally we add the densely connected layers. \n",
        "\n",
        "Note that because we are facing a two-class classification problem, i.e. a *binary classification problem*, we will end our network with a [*sigmoid* activation](https://wikipedia.org/wiki/Sigmoid_function), so that the output of our network will be a single scalar between 0 and 1, encoding the probability that the current image is class 1 (as opposed to class 0)."
      ]
    },
    {
      "cell_type": "code",
      "metadata": {
        "id": "PixZ2s5QbYQ3",
        "colab_type": "code",
        "colab": {
          "base_uri": "https://localhost:8080/",
          "height": 105
        },
        "outputId": "442a90fc-efe3-4fac-ccbf-b1e99e2bf1ca"
      },
      "source": [
        "model = tf.keras.models.Sequential([\n",
        "    # Note the input shape is the desired size of the image 300x300 with 3 bytes color\n",
        "    # This is the first convolution\n",
        "    tf.keras.layers.Conv2D(16, (3,3), activation='relu', input_shape=(300, 300, 3)),\n",
        "    tf.keras.layers.MaxPooling2D(2, 2),\n",
        "    # The second convolution\n",
        "    tf.keras.layers.Conv2D(32, (3,3), activation='relu'),\n",
        "    tf.keras.layers.MaxPooling2D(2,2),\n",
        "    # The third convolution\n",
        "    tf.keras.layers.Conv2D(64, (3,3), activation='relu'),\n",
        "    tf.keras.layers.MaxPooling2D(2,2),\n",
        "    # The fourth convolution\n",
        "    tf.keras.layers.Conv2D(64, (3,3), activation='relu'),\n",
        "    tf.keras.layers.MaxPooling2D(2,2),\n",
        "    # The fifth convolution\n",
        "    tf.keras.layers.Conv2D(64, (3,3), activation='relu'),\n",
        "    tf.keras.layers.MaxPooling2D(2,2),\n",
        "    # Flatten the results to feed into a DNN\n",
        "    tf.keras.layers.Flatten(),\n",
        "    # 512 neuron hidden layer\n",
        "    tf.keras.layers.Dense(512, activation='relu'),\n",
        "    # Only 1 output neuron. It will contain a value from 0-1 where 0 for 1 class ('horses') and 1 for the other ('humans')\n",
        "    tf.keras.layers.Dense(1, activation='sigmoid')\n",
        "])"
      ],
      "execution_count": 3,
      "outputs": [
        {
          "output_type": "stream",
          "text": [
            "WARNING: Logging before flag parsing goes to stderr.\n",
            "W0630 11:15:53.598829 139765851740032 deprecation.py:506] From /usr/local/lib/python3.6/dist-packages/tensorflow/python/ops/init_ops.py:1251: calling VarianceScaling.__init__ (from tensorflow.python.ops.init_ops) with dtype is deprecated and will be removed in a future version.\n",
            "Instructions for updating:\n",
            "Call initializer instance with the dtype argument instead of passing it to the constructor\n"
          ],
          "name": "stderr"
        }
      ]
    },
    {
      "cell_type": "code",
      "metadata": {
        "colab_type": "code",
        "id": "8DHWhFP_uhq3",
        "colab": {
          "base_uri": "https://localhost:8080/",
          "height": 88
        },
        "outputId": "784106f8-1061-4ace-b49b-b440af5735de"
      },
      "source": [
        "from tensorflow.keras.optimizers import RMSprop\n",
        "\n",
        "model.compile(loss='binary_crossentropy',\n",
        "              optimizer=RMSprop(lr=1e-4),\n",
        "              metrics=['acc'])"
      ],
      "execution_count": 4,
      "outputs": [
        {
          "output_type": "stream",
          "text": [
            "W0630 11:15:53.932935 139765851740032 deprecation.py:323] From /usr/local/lib/python3.6/dist-packages/tensorflow/python/ops/nn_impl.py:180: add_dispatch_support.<locals>.wrapper (from tensorflow.python.ops.array_ops) is deprecated and will be removed in a future version.\n",
            "Instructions for updating:\n",
            "Use tf.where in 2.0, which has the same broadcast rule as np.where\n"
          ],
          "name": "stderr"
        }
      ]
    },
    {
      "cell_type": "code",
      "metadata": {
        "colab_type": "code",
        "id": "ClebU9NJg99G",
        "colab": {
          "base_uri": "https://localhost:8080/",
          "height": 51
        },
        "outputId": "f88156e1-cf96-4c20-98ff-d910d30e08e6"
      },
      "source": [
        "from tensorflow.keras.preprocessing.image import ImageDataGenerator\n",
        "\n",
        "# All images will be rescaled by 1./255\n",
        "train_datagen = ImageDataGenerator(\n",
        "      rescale=1./255,\n",
        "      rotation_range=40,\n",
        "      width_shift_range=0.2,\n",
        "      height_shift_range=0.2,\n",
        "      shear_range=0.2,\n",
        "      zoom_range=0.2,\n",
        "      horizontal_flip=True,\n",
        "      fill_mode='nearest')\n",
        "\n",
        "validation_datagen = ImageDataGenerator(rescale=1/255)\n",
        "\n",
        "# Flow training images in batches of 128 using train_datagen generator\n",
        "train_generator = train_datagen.flow_from_directory(\n",
        "        '/tmp/horse-or-human/',  # This is the source directory for training images\n",
        "        target_size=(300, 300),  # All images will be resized to 150x150\n",
        "        batch_size=128,\n",
        "        # Since we use binary_crossentropy loss, we need binary labels\n",
        "        class_mode='binary')\n",
        "\n",
        "# Flow training images in batches of 128 using train_datagen generator\n",
        "validation_generator = validation_datagen.flow_from_directory(\n",
        "        '/tmp/validation-horse-or-human/',  # This is the source directory for training images\n",
        "        target_size=(300, 300),  # All images will be resized to 150x150\n",
        "        batch_size=32,\n",
        "        # Since we use binary_crossentropy loss, we need binary labels\n",
        "        class_mode='binary')"
      ],
      "execution_count": 5,
      "outputs": [
        {
          "output_type": "stream",
          "text": [
            "Found 1027 images belonging to 2 classes.\n",
            "Found 256 images belonging to 2 classes.\n"
          ],
          "name": "stdout"
        }
      ]
    },
    {
      "cell_type": "code",
      "metadata": {
        "colab_type": "code",
        "id": "Fb1_lgobv81m",
        "colab": {
          "base_uri": "https://localhost:8080/",
          "height": 1000
        },
        "outputId": "47abfdc2-d238-4c1f-efd1-2b271d349daa"
      },
      "source": [
        "history = model.fit_generator(\n",
        "      train_generator,\n",
        "      steps_per_epoch=8,  \n",
        "      epochs=100,\n",
        "      verbose=1,\n",
        "      validation_data = validation_generator,\n",
        "      validation_steps=8)"
      ],
      "execution_count": 6,
      "outputs": [
        {
          "output_type": "stream",
          "text": [
            "Epoch 1/100\n",
            "8/8 [==============================] - 25s 3s/step - loss: 0.6897 - acc: 0.5451 - val_loss: 0.6757 - val_acc: 0.7539\n",
            "Epoch 2/100\n",
            "8/8 [==============================] - 24s 3s/step - loss: 0.6777 - acc: 0.5829 - val_loss: 0.6539 - val_acc: 0.7227\n",
            "Epoch 3/100\n",
            "8/8 [==============================] - 24s 3s/step - loss: 0.6804 - acc: 0.5929 - val_loss: 0.6402 - val_acc: 0.7773\n",
            "Epoch 4/100\n",
            "8/8 [==============================] - 28s 3s/step - loss: 0.6494 - acc: 0.7168 - val_loss: 0.6202 - val_acc: 0.6328\n",
            "Epoch 5/100\n",
            "8/8 [==============================] - 24s 3s/step - loss: 0.6265 - acc: 0.6974 - val_loss: 0.6221 - val_acc: 0.5703\n",
            "Epoch 6/100\n",
            "8/8 [==============================] - 24s 3s/step - loss: 0.6107 - acc: 0.7075 - val_loss: 0.5460 - val_acc: 0.7188\n",
            "Epoch 7/100\n",
            "8/8 [==============================] - 24s 3s/step - loss: 0.5907 - acc: 0.6963 - val_loss: 0.9563 - val_acc: 0.5039\n",
            "Epoch 8/100\n",
            "8/8 [==============================] - 24s 3s/step - loss: 0.6183 - acc: 0.7008 - val_loss: 0.5940 - val_acc: 0.6328\n",
            "Epoch 9/100\n",
            "8/8 [==============================] - 24s 3s/step - loss: 0.5910 - acc: 0.7197 - val_loss: 0.5604 - val_acc: 0.6758\n",
            "Epoch 10/100\n",
            "8/8 [==============================] - 24s 3s/step - loss: 0.5591 - acc: 0.7586 - val_loss: 0.5520 - val_acc: 0.6875\n",
            "Epoch 11/100\n",
            "8/8 [==============================] - 24s 3s/step - loss: 0.5434 - acc: 0.7408 - val_loss: 0.5307 - val_acc: 0.7109\n",
            "Epoch 12/100\n",
            "8/8 [==============================] - 24s 3s/step - loss: 0.5196 - acc: 0.7809 - val_loss: 0.7214 - val_acc: 0.6211\n",
            "Epoch 13/100\n",
            "8/8 [==============================] - 24s 3s/step - loss: 0.4462 - acc: 0.7875 - val_loss: 0.4660 - val_acc: 0.6602\n",
            "Epoch 14/100\n",
            "8/8 [==============================] - 27s 3s/step - loss: 0.5995 - acc: 0.7373 - val_loss: 0.6720 - val_acc: 0.6836\n",
            "Epoch 15/100\n",
            "8/8 [==============================] - 24s 3s/step - loss: 0.4812 - acc: 0.7675 - val_loss: 0.7312 - val_acc: 0.6641\n",
            "Epoch 16/100\n",
            "8/8 [==============================] - 24s 3s/step - loss: 0.5399 - acc: 0.7709 - val_loss: 0.8055 - val_acc: 0.6562\n",
            "Epoch 17/100\n",
            "8/8 [==============================] - 24s 3s/step - loss: 0.4335 - acc: 0.7831 - val_loss: 1.0199 - val_acc: 0.6172\n",
            "Epoch 18/100\n",
            "8/8 [==============================] - 24s 3s/step - loss: 0.3947 - acc: 0.8131 - val_loss: 1.2296 - val_acc: 0.5977\n",
            "Epoch 19/100\n",
            "8/8 [==============================] - 24s 3s/step - loss: 0.4089 - acc: 0.7786 - val_loss: 1.2901 - val_acc: 0.5820\n",
            "Epoch 20/100\n",
            "8/8 [==============================] - 24s 3s/step - loss: 0.4672 - acc: 0.7976 - val_loss: 0.9743 - val_acc: 0.6641\n",
            "Epoch 21/100\n",
            "8/8 [==============================] - 24s 3s/step - loss: 0.4219 - acc: 0.7898 - val_loss: 1.9914 - val_acc: 0.5156\n",
            "Epoch 22/100\n",
            "8/8 [==============================] - 28s 3s/step - loss: 0.4877 - acc: 0.7852 - val_loss: 0.7231 - val_acc: 0.7266\n",
            "Epoch 23/100\n",
            "8/8 [==============================] - 24s 3s/step - loss: 0.3706 - acc: 0.8209 - val_loss: 0.7937 - val_acc: 0.7148\n",
            "Epoch 24/100\n",
            "8/8 [==============================] - 21s 3s/step - loss: 0.4946 - acc: 0.7791 - val_loss: 1.0315 - val_acc: 0.6406\n",
            "Epoch 25/100\n",
            "8/8 [==============================] - 28s 3s/step - loss: 0.3912 - acc: 0.8213 - val_loss: 1.1665 - val_acc: 0.6406\n",
            "Epoch 26/100\n",
            "8/8 [==============================] - 24s 3s/step - loss: 0.4115 - acc: 0.8343 - val_loss: 1.0361 - val_acc: 0.6641\n",
            "Epoch 27/100\n",
            "8/8 [==============================] - 24s 3s/step - loss: 0.4331 - acc: 0.7920 - val_loss: 1.2773 - val_acc: 0.6094\n",
            "Epoch 28/100\n",
            "8/8 [==============================] - 25s 3s/step - loss: 0.3896 - acc: 0.8131 - val_loss: 1.3243 - val_acc: 0.6328\n",
            "Epoch 29/100\n",
            "8/8 [==============================] - 26s 3s/step - loss: 0.3820 - acc: 0.8065 - val_loss: 1.0661 - val_acc: 0.6641\n",
            "Epoch 30/100\n",
            "8/8 [==============================] - 37s 5s/step - loss: 0.3666 - acc: 0.8320 - val_loss: 2.0239 - val_acc: 0.5547\n",
            "Epoch 31/100\n",
            "8/8 [==============================] - 24s 3s/step - loss: 0.4465 - acc: 0.8176 - val_loss: 1.0983 - val_acc: 0.6602\n",
            "Epoch 32/100\n",
            "8/8 [==============================] - 21s 3s/step - loss: 0.3257 - acc: 0.8398 - val_loss: 1.4832 - val_acc: 0.6250\n",
            "Epoch 33/100\n",
            "8/8 [==============================] - 28s 3s/step - loss: 0.3596 - acc: 0.8457 - val_loss: 1.1877 - val_acc: 0.6797\n",
            "Epoch 34/100\n",
            "8/8 [==============================] - 24s 3s/step - loss: 0.3165 - acc: 0.8432 - val_loss: 1.4378 - val_acc: 0.6367\n",
            "Epoch 35/100\n",
            "8/8 [==============================] - 24s 3s/step - loss: 0.4426 - acc: 0.8142 - val_loss: 1.3196 - val_acc: 0.6250\n",
            "Epoch 36/100\n",
            "8/8 [==============================] - 25s 3s/step - loss: 0.3241 - acc: 0.8598 - val_loss: 1.4139 - val_acc: 0.6289\n",
            "Epoch 37/100\n",
            "8/8 [==============================] - 24s 3s/step - loss: 0.3337 - acc: 0.8454 - val_loss: 1.3747 - val_acc: 0.6406\n",
            "Epoch 38/100\n",
            "8/8 [==============================] - 28s 3s/step - loss: 0.3208 - acc: 0.8387 - val_loss: 1.3897 - val_acc: 0.6289\n",
            "Epoch 39/100\n",
            "8/8 [==============================] - 24s 3s/step - loss: 0.2682 - acc: 0.8699 - val_loss: 2.2654 - val_acc: 0.5664\n",
            "Epoch 40/100\n",
            "8/8 [==============================] - 24s 3s/step - loss: 0.4194 - acc: 0.8254 - val_loss: 1.5973 - val_acc: 0.6094\n",
            "Epoch 41/100\n",
            "8/8 [==============================] - 27s 3s/step - loss: 0.2962 - acc: 0.8818 - val_loss: 1.8278 - val_acc: 0.5977\n",
            "Epoch 42/100\n",
            "8/8 [==============================] - 21s 3s/step - loss: 0.3053 - acc: 0.8527 - val_loss: 1.3030 - val_acc: 0.6719\n",
            "Epoch 43/100\n",
            "8/8 [==============================] - 27s 3s/step - loss: 0.3204 - acc: 0.8643 - val_loss: 2.0433 - val_acc: 0.5898\n",
            "Epoch 44/100\n",
            "8/8 [==============================] - 24s 3s/step - loss: 0.2901 - acc: 0.8543 - val_loss: 2.5680 - val_acc: 0.5508\n",
            "Epoch 45/100\n",
            "8/8 [==============================] - 24s 3s/step - loss: 0.3586 - acc: 0.9032 - val_loss: 0.4888 - val_acc: 0.8320\n",
            "Epoch 46/100\n",
            "8/8 [==============================] - 24s 3s/step - loss: 0.3427 - acc: 0.8587 - val_loss: 1.4708 - val_acc: 0.6523\n",
            "Epoch 47/100\n",
            "8/8 [==============================] - 24s 3s/step - loss: 0.2689 - acc: 0.8865 - val_loss: 1.3973 - val_acc: 0.6758\n",
            "Epoch 48/100\n",
            "8/8 [==============================] - 24s 3s/step - loss: 0.2705 - acc: 0.8654 - val_loss: 1.9281 - val_acc: 0.6250\n",
            "Epoch 49/100\n",
            "8/8 [==============================] - 24s 3s/step - loss: 0.3002 - acc: 0.8610 - val_loss: 1.7286 - val_acc: 0.6250\n",
            "Epoch 50/100\n",
            "8/8 [==============================] - 25s 3s/step - loss: 0.2750 - acc: 0.8732 - val_loss: 1.5199 - val_acc: 0.6328\n",
            "Epoch 51/100\n",
            "8/8 [==============================] - 28s 3s/step - loss: 0.2450 - acc: 0.9023 - val_loss: 2.3197 - val_acc: 0.5781\n",
            "Epoch 52/100\n",
            "8/8 [==============================] - 21s 3s/step - loss: 0.3302 - acc: 0.8618 - val_loss: 1.2936 - val_acc: 0.6406\n",
            "Epoch 53/100\n",
            "8/8 [==============================] - 24s 3s/step - loss: 0.2456 - acc: 0.8888 - val_loss: 1.5790 - val_acc: 0.6523\n",
            "Epoch 54/100\n",
            "8/8 [==============================] - 28s 3s/step - loss: 0.2939 - acc: 0.8711 - val_loss: 1.9167 - val_acc: 0.6055\n",
            "Epoch 55/100\n",
            "8/8 [==============================] - 24s 3s/step - loss: 0.3291 - acc: 0.8576 - val_loss: 1.9109 - val_acc: 0.5938\n",
            "Epoch 56/100\n",
            "8/8 [==============================] - 24s 3s/step - loss: 0.2655 - acc: 0.8954 - val_loss: 1.8351 - val_acc: 0.6289\n",
            "Epoch 57/100\n",
            "8/8 [==============================] - 28s 3s/step - loss: 0.1933 - acc: 0.9287 - val_loss: 1.8922 - val_acc: 0.6445\n",
            "Epoch 58/100\n",
            "8/8 [==============================] - 24s 3s/step - loss: 0.2920 - acc: 0.8721 - val_loss: 2.6352 - val_acc: 0.5742\n",
            "Epoch 59/100\n",
            "8/8 [==============================] - 24s 3s/step - loss: 0.2262 - acc: 0.8877 - val_loss: 1.8194 - val_acc: 0.6367\n",
            "Epoch 60/100\n",
            "8/8 [==============================] - 21s 3s/step - loss: 0.2358 - acc: 0.9121 - val_loss: 3.4781 - val_acc: 0.5156\n",
            "Epoch 61/100\n",
            "8/8 [==============================] - 28s 4s/step - loss: 0.2849 - acc: 0.8828 - val_loss: 1.7719 - val_acc: 0.6406\n",
            "Epoch 62/100\n",
            "8/8 [==============================] - 25s 3s/step - loss: 0.2570 - acc: 0.8943 - val_loss: 2.9378 - val_acc: 0.5664\n",
            "Epoch 63/100\n",
            "8/8 [==============================] - 24s 3s/step - loss: 0.3027 - acc: 0.8899 - val_loss: 1.7444 - val_acc: 0.6328\n",
            "Epoch 64/100\n",
            "8/8 [==============================] - 27s 3s/step - loss: 0.1988 - acc: 0.9336 - val_loss: 2.3880 - val_acc: 0.6172\n",
            "Epoch 65/100\n",
            "8/8 [==============================] - 22s 3s/step - loss: 0.2153 - acc: 0.9096 - val_loss: 1.9787 - val_acc: 0.6484\n",
            "Epoch 66/100\n",
            "8/8 [==============================] - 24s 3s/step - loss: 0.1918 - acc: 0.9099 - val_loss: 3.1447 - val_acc: 0.5781\n",
            "Epoch 67/100\n",
            "8/8 [==============================] - 24s 3s/step - loss: 0.2413 - acc: 0.8854 - val_loss: 2.5802 - val_acc: 0.5977\n",
            "Epoch 68/100\n",
            "8/8 [==============================] - 27s 3s/step - loss: 0.2041 - acc: 0.9150 - val_loss: 2.7054 - val_acc: 0.5938\n",
            "Epoch 69/100\n",
            "8/8 [==============================] - 37s 5s/step - loss: 0.2308 - acc: 0.8921 - val_loss: 2.1924 - val_acc: 0.6289\n",
            "Epoch 70/100\n",
            "8/8 [==============================] - 37s 5s/step - loss: 0.1973 - acc: 0.9244 - val_loss: 2.5167 - val_acc: 0.6328\n",
            "Epoch 71/100\n",
            "8/8 [==============================] - 24s 3s/step - loss: 0.2415 - acc: 0.8977 - val_loss: 1.5932 - val_acc: 0.6680\n",
            "Epoch 72/100\n",
            "8/8 [==============================] - 24s 3s/step - loss: 0.2302 - acc: 0.8877 - val_loss: 1.8818 - val_acc: 0.6602\n",
            "Epoch 73/100\n",
            "8/8 [==============================] - 24s 3s/step - loss: 0.1443 - acc: 0.9344 - val_loss: 3.2229 - val_acc: 0.5820\n",
            "Epoch 74/100\n",
            "8/8 [==============================] - 27s 3s/step - loss: 0.2436 - acc: 0.9023 - val_loss: 2.4815 - val_acc: 0.6328\n",
            "Epoch 75/100\n",
            "8/8 [==============================] - 21s 3s/step - loss: 0.1677 - acc: 0.9147 - val_loss: 2.4636 - val_acc: 0.6328\n",
            "Epoch 76/100\n",
            "8/8 [==============================] - 28s 3s/step - loss: 0.1738 - acc: 0.9395 - val_loss: 1.2301 - val_acc: 0.7344\n",
            "Epoch 77/100\n",
            "8/8 [==============================] - 21s 3s/step - loss: 0.2639 - acc: 0.8992 - val_loss: 3.9142 - val_acc: 0.5547\n",
            "Epoch 78/100\n",
            "8/8 [==============================] - 27s 3s/step - loss: 0.1654 - acc: 0.9346 - val_loss: 2.4368 - val_acc: 0.6523\n",
            "Epoch 79/100\n",
            "8/8 [==============================] - 24s 3s/step - loss: 0.1603 - acc: 0.9366 - val_loss: 2.4548 - val_acc: 0.6523\n",
            "Epoch 80/100\n",
            "8/8 [==============================] - 24s 3s/step - loss: 0.2476 - acc: 0.9177 - val_loss: 2.1620 - val_acc: 0.6523\n",
            "Epoch 81/100\n",
            "8/8 [==============================] - 24s 3s/step - loss: 0.2318 - acc: 0.9110 - val_loss: 2.2118 - val_acc: 0.6562\n",
            "Epoch 82/100\n",
            "8/8 [==============================] - 27s 3s/step - loss: 0.1473 - acc: 0.9473 - val_loss: 1.8080 - val_acc: 0.6914\n",
            "Epoch 83/100\n",
            "8/8 [==============================] - 25s 3s/step - loss: 0.1835 - acc: 0.9188 - val_loss: 2.6517 - val_acc: 0.6484\n",
            "Epoch 84/100\n",
            "8/8 [==============================] - 24s 3s/step - loss: 0.1692 - acc: 0.9066 - val_loss: 1.6631 - val_acc: 0.7031\n",
            "Epoch 85/100\n",
            "8/8 [==============================] - 21s 3s/step - loss: 0.2148 - acc: 0.9173 - val_loss: 4.6238 - val_acc: 0.5430\n",
            "Epoch 86/100\n",
            "8/8 [==============================] - 27s 3s/step - loss: 0.1764 - acc: 0.9258 - val_loss: 2.4567 - val_acc: 0.6562\n",
            "Epoch 87/100\n",
            "8/8 [==============================] - 24s 3s/step - loss: 0.1797 - acc: 0.9077 - val_loss: 2.4880 - val_acc: 0.6484\n",
            "Epoch 88/100\n",
            "8/8 [==============================] - 24s 3s/step - loss: 0.1562 - acc: 0.9333 - val_loss: 2.5402 - val_acc: 0.6523\n",
            "Epoch 89/100\n",
            "8/8 [==============================] - 24s 3s/step - loss: 0.1672 - acc: 0.9232 - val_loss: 2.2266 - val_acc: 0.6602\n",
            "Epoch 90/100\n",
            "8/8 [==============================] - 24s 3s/step - loss: 0.2112 - acc: 0.9121 - val_loss: 1.6493 - val_acc: 0.6836\n",
            "Epoch 91/100\n",
            "8/8 [==============================] - 25s 3s/step - loss: 0.1563 - acc: 0.9333 - val_loss: 3.3763 - val_acc: 0.5977\n",
            "Epoch 92/100\n",
            "8/8 [==============================] - 24s 3s/step - loss: 0.1456 - acc: 0.9388 - val_loss: 2.4987 - val_acc: 0.6484\n",
            "Epoch 93/100\n",
            "8/8 [==============================] - 27s 3s/step - loss: 0.1972 - acc: 0.9082 - val_loss: 2.4304 - val_acc: 0.6484\n",
            "Epoch 94/100\n",
            "8/8 [==============================] - 21s 3s/step - loss: 0.1192 - acc: 0.9457 - val_loss: 2.9609 - val_acc: 0.6289\n",
            "Epoch 95/100\n",
            "8/8 [==============================] - 28s 3s/step - loss: 0.1672 - acc: 0.9277 - val_loss: 3.9195 - val_acc: 0.5586\n",
            "Epoch 96/100\n",
            "8/8 [==============================] - 25s 3s/step - loss: 0.1522 - acc: 0.9410 - val_loss: 3.4862 - val_acc: 0.6016\n",
            "Epoch 97/100\n",
            "8/8 [==============================] - 24s 3s/step - loss: 0.1602 - acc: 0.9533 - val_loss: 3.1722 - val_acc: 0.6445\n",
            "Epoch 98/100\n",
            "8/8 [==============================] - 24s 3s/step - loss: 0.1783 - acc: 0.9244 - val_loss: 2.5582 - val_acc: 0.6523\n",
            "Epoch 99/100\n",
            "8/8 [==============================] - 24s 3s/step - loss: 0.1151 - acc: 0.9577 - val_loss: 2.6357 - val_acc: 0.6562\n",
            "Epoch 100/100\n",
            "8/8 [==============================] - 24s 3s/step - loss: 0.1838 - acc: 0.9422 - val_loss: 3.2466 - val_acc: 0.6406\n"
          ],
          "name": "stdout"
        }
      ]
    },
    {
      "cell_type": "code",
      "metadata": {
        "id": "7zNPRWOVJdOH",
        "colab_type": "code",
        "colab": {
          "base_uri": "https://localhost:8080/",
          "height": 545
        },
        "outputId": "32a06694-4faa-4f37-c84f-51a090bd48ed"
      },
      "source": [
        "import matplotlib.pyplot as plt\n",
        "acc = history.history['acc']\n",
        "val_acc = history.history['val_acc']\n",
        "loss = history.history['loss']\n",
        "val_loss = history.history['val_loss']\n",
        "\n",
        "epochs = range(len(acc))\n",
        "\n",
        "plt.plot(epochs, acc, 'r', label='Training accuracy')\n",
        "plt.plot(epochs, val_acc, 'b', label='Validation accuracy')\n",
        "plt.title('Training and validation accuracy')\n",
        "\n",
        "plt.figure()\n",
        "\n",
        "plt.plot(epochs, loss, 'r', label='Training Loss')\n",
        "plt.plot(epochs, val_loss, 'b', label='Validation Loss')\n",
        "plt.title('Training and validation loss')\n",
        "plt.legend()\n",
        "\n",
        "plt.show()"
      ],
      "execution_count": 7,
      "outputs": [
        {
          "output_type": "display_data",
          "data": {
            "image/png": "[encoded data removed]",
            "text/plain": [
              "<Figure size 432x288 with 1 Axes>"
            ]
          },
          "metadata": {
            "tags": []
          }
        },
        {
          "output_type": "display_data",
          "data": {
            "image/png": "[encoded data removed]",
            "text/plain": [
              "<Figure size 432x288 with 1 Axes>"
            ]
          },
          "metadata": {
            "tags": []
          }
        }
      ]
    }
  ]
}